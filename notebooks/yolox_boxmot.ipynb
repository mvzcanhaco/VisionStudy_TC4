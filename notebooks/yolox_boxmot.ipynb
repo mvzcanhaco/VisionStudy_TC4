{
 "cells": [
  {
   "cell_type": "code",
   "metadata": {
    "ExecuteTime": {
     "end_time": "2024-11-26T14:14:03.921028Z",
     "start_time": "2024-11-26T14:13:44.429977Z"
    }
   },
   "source": [
    "!pip install yolox --no-deps  # onnxruntime==1.8.0 is putdated, hence --no-deps\n",
    "!git clone https://github.com/mikel-brostrom/boxmot.git\n",
    "!cd boxmot\n",
    "!pip install poetry\n",
    "!poetry install --with yolo  # installed boxmot + yolo dependencies\n",
    "!poetry shell  # activates the newly created environment with the installed dependencies\n",
    "\n"
   ],
   "outputs": [
    {
     "name": "stdout",
     "output_type": "stream",
     "text": [
      "Requirement already satisfied: yolox in /Users/marcuscanhaco/workspace/VisionStudy_TC4/.venv/lib/python3.12/site-packages (0.3.0)\r\n",
      "Cloning into 'boxmot'...\r\n",
      "remote: Enumerating objects: 15716, done.\u001B[K\r\n",
      "remote: Counting objects: 100% (334/334), done.\u001B[K\r\n",
      "remote: Compressing objects: 100% (141/141), done.\u001B[K\r\n",
      "remote: Total 15716 (delta 206), reused 277 (delta 192), pack-reused 15382 (from 1)\u001B[K\r\n",
      "Receiving objects: 100% (15716/15716), 118.02 MiB | 12.13 MiB/s, done.\r\n",
      "Resolving deltas: 100% (10110/10110), done.\r\n",
      "Collecting poetry\r\n",
      "  Downloading poetry-1.8.4-py3-none-any.whl.metadata (6.9 kB)\r\n",
      "Collecting build<2.0.0,>=1.0.3 (from poetry)\r\n",
      "  Downloading build-1.2.2.post1-py3-none-any.whl.metadata (6.5 kB)\r\n",
      "Collecting cachecontrol<0.15.0,>=0.14.0 (from cachecontrol[filecache]<0.15.0,>=0.14.0->poetry)\r\n",
      "  Downloading cachecontrol-0.14.1-py3-none-any.whl.metadata (3.1 kB)\r\n",
      "Collecting cleo<3.0.0,>=2.1.0 (from poetry)\r\n",
      "  Downloading cleo-2.1.0-py3-none-any.whl.metadata (12 kB)\r\n",
      "Collecting crashtest<0.5.0,>=0.4.1 (from poetry)\r\n",
      "  Downloading crashtest-0.4.1-py3-none-any.whl.metadata (1.1 kB)\r\n",
      "Collecting dulwich<0.22.0,>=0.21.2 (from poetry)\r\n",
      "  Downloading dulwich-0.21.7-cp312-cp312-macosx_11_0_arm64.whl.metadata (4.3 kB)\r\n",
      "Requirement already satisfied: fastjsonschema<3.0.0,>=2.18.0 in /Users/marcuscanhaco/workspace/VisionStudy_TC4/.venv/lib/python3.12/site-packages (from poetry) (2.20.0)\r\n",
      "Collecting installer<0.8.0,>=0.7.0 (from poetry)\r\n",
      "  Downloading installer-0.7.0-py3-none-any.whl.metadata (936 bytes)\r\n",
      "Collecting keyring<25.0.0,>=24.0.0 (from poetry)\r\n",
      "  Downloading keyring-24.3.1-py3-none-any.whl.metadata (20 kB)\r\n",
      "Requirement already satisfied: packaging>=23.1 in /Users/marcuscanhaco/workspace/VisionStudy_TC4/.venv/lib/python3.12/site-packages (from poetry) (24.1)\r\n",
      "Requirement already satisfied: pexpect<5.0.0,>=4.7.0 in /Users/marcuscanhaco/workspace/VisionStudy_TC4/.venv/lib/python3.12/site-packages (from poetry) (4.9.0)\r\n",
      "Collecting pkginfo<2.0,>=1.10 (from poetry)\r\n",
      "  Downloading pkginfo-1.11.2-py3-none-any.whl.metadata (11 kB)\r\n",
      "Requirement already satisfied: platformdirs<5,>=3.0.0 in /Users/marcuscanhaco/workspace/VisionStudy_TC4/.venv/lib/python3.12/site-packages (from poetry) (4.3.6)\r\n",
      "Collecting poetry-core==1.9.1 (from poetry)\r\n",
      "  Downloading poetry_core-1.9.1-py3-none-any.whl.metadata (3.5 kB)\r\n",
      "Collecting poetry-plugin-export<2.0.0,>=1.6.0 (from poetry)\r\n",
      "  Downloading poetry_plugin_export-1.8.0-py3-none-any.whl.metadata (2.8 kB)\r\n",
      "Collecting pyproject-hooks<2.0.0,>=1.0.0 (from poetry)\r\n",
      "  Downloading pyproject_hooks-1.2.0-py3-none-any.whl.metadata (1.3 kB)\r\n",
      "Requirement already satisfied: requests<3.0,>=2.26 in /Users/marcuscanhaco/workspace/VisionStudy_TC4/.venv/lib/python3.12/site-packages (from poetry) (2.32.3)\r\n",
      "Collecting requests-toolbelt<2.0.0,>=1.0.0 (from poetry)\r\n",
      "  Using cached requests_toolbelt-1.0.0-py2.py3-none-any.whl.metadata (14 kB)\r\n",
      "Collecting shellingham<2.0,>=1.5 (from poetry)\r\n",
      "  Using cached shellingham-1.5.4-py2.py3-none-any.whl.metadata (3.5 kB)\r\n",
      "Collecting tomlkit<1.0.0,>=0.11.4 (from poetry)\r\n",
      "  Downloading tomlkit-0.13.2-py3-none-any.whl.metadata (2.7 kB)\r\n",
      "Collecting trove-classifiers>=2022.5.19 (from poetry)\r\n",
      "  Downloading trove_classifiers-2024.10.21.16-py3-none-any.whl.metadata (2.2 kB)\r\n",
      "Collecting virtualenv<21.0.0,>=20.26.6 (from poetry)\r\n",
      "  Downloading virtualenv-20.28.0-py3-none-any.whl.metadata (4.4 kB)\r\n",
      "Collecting xattr<2.0.0,>=1.0.0 (from poetry)\r\n",
      "  Downloading xattr-1.1.0-cp312-cp312-macosx_11_0_arm64.whl.metadata (3.8 kB)\r\n",
      "Collecting msgpack<2.0.0,>=0.5.2 (from cachecontrol<0.15.0,>=0.14.0->cachecontrol[filecache]<0.15.0,>=0.14.0->poetry)\r\n",
      "  Downloading msgpack-1.1.0-cp312-cp312-macosx_11_0_arm64.whl.metadata (8.4 kB)\r\n",
      "Requirement already satisfied: filelock>=3.8.0 in /Users/marcuscanhaco/workspace/VisionStudy_TC4/.venv/lib/python3.12/site-packages (from cachecontrol[filecache]<0.15.0,>=0.14.0->poetry) (3.16.1)\r\n",
      "Collecting rapidfuzz<4.0.0,>=3.0.0 (from cleo<3.0.0,>=2.1.0->poetry)\r\n",
      "  Downloading rapidfuzz-3.10.1-cp312-cp312-macosx_11_0_arm64.whl.metadata (11 kB)\r\n",
      "Requirement already satisfied: urllib3>=1.25 in /Users/marcuscanhaco/workspace/VisionStudy_TC4/.venv/lib/python3.12/site-packages (from dulwich<0.22.0,>=0.21.2->poetry) (2.2.3)\r\n",
      "Collecting jaraco.classes (from keyring<25.0.0,>=24.0.0->poetry)\r\n",
      "  Downloading jaraco.classes-3.4.0-py3-none-any.whl.metadata (2.6 kB)\r\n",
      "Requirement already satisfied: ptyprocess>=0.5 in /Users/marcuscanhaco/workspace/VisionStudy_TC4/.venv/lib/python3.12/site-packages (from pexpect<5.0.0,>=4.7.0->poetry) (0.7.0)\r\n",
      "Requirement already satisfied: charset-normalizer<4,>=2 in /Users/marcuscanhaco/workspace/VisionStudy_TC4/.venv/lib/python3.12/site-packages (from requests<3.0,>=2.26->poetry) (3.4.0)\r\n",
      "Requirement already satisfied: idna<4,>=2.5 in /Users/marcuscanhaco/workspace/VisionStudy_TC4/.venv/lib/python3.12/site-packages (from requests<3.0,>=2.26->poetry) (3.10)\r\n",
      "Requirement already satisfied: certifi>=2017.4.17 in /Users/marcuscanhaco/workspace/VisionStudy_TC4/.venv/lib/python3.12/site-packages (from requests<3.0,>=2.26->poetry) (2024.8.30)\r\n",
      "Collecting distlib<1,>=0.3.7 (from virtualenv<21.0.0,>=20.26.6->poetry)\r\n",
      "  Downloading distlib-0.3.9-py2.py3-none-any.whl.metadata (5.2 kB)\r\n",
      "Requirement already satisfied: cffi>=1.16.0 in /Users/marcuscanhaco/workspace/VisionStudy_TC4/.venv/lib/python3.12/site-packages (from xattr<2.0.0,>=1.0.0->poetry) (1.17.1)\r\n",
      "Requirement already satisfied: pycparser in /Users/marcuscanhaco/workspace/VisionStudy_TC4/.venv/lib/python3.12/site-packages (from cffi>=1.16.0->xattr<2.0.0,>=1.0.0->poetry) (2.22)\r\n",
      "Collecting more-itertools (from jaraco.classes->keyring<25.0.0,>=24.0.0->poetry)\r\n",
      "  Downloading more_itertools-10.5.0-py3-none-any.whl.metadata (36 kB)\r\n",
      "Downloading poetry-1.8.4-py3-none-any.whl (249 kB)\r\n",
      "Downloading poetry_core-1.9.1-py3-none-any.whl (309 kB)\r\n",
      "Downloading build-1.2.2.post1-py3-none-any.whl (22 kB)\r\n",
      "Downloading cachecontrol-0.14.1-py3-none-any.whl (22 kB)\r\n",
      "Downloading cleo-2.1.0-py3-none-any.whl (78 kB)\r\n",
      "Downloading crashtest-0.4.1-py3-none-any.whl (7.6 kB)\r\n",
      "Downloading dulwich-0.21.7-cp312-cp312-macosx_11_0_arm64.whl (475 kB)\r\n",
      "Downloading installer-0.7.0-py3-none-any.whl (453 kB)\r\n",
      "Downloading keyring-24.3.1-py3-none-any.whl (38 kB)\r\n",
      "Downloading pkginfo-1.11.2-py3-none-any.whl (31 kB)\r\n",
      "Downloading poetry_plugin_export-1.8.0-py3-none-any.whl (10 kB)\r\n",
      "Downloading pyproject_hooks-1.2.0-py3-none-any.whl (10 kB)\r\n",
      "Using cached requests_toolbelt-1.0.0-py2.py3-none-any.whl (54 kB)\r\n",
      "Using cached shellingham-1.5.4-py2.py3-none-any.whl (9.8 kB)\r\n",
      "Downloading tomlkit-0.13.2-py3-none-any.whl (37 kB)\r\n",
      "Downloading trove_classifiers-2024.10.21.16-py3-none-any.whl (13 kB)\r\n",
      "Downloading virtualenv-20.28.0-py3-none-any.whl (4.3 MB)\r\n",
      "\u001B[2K   \u001B[90m━━━━━━━━━━━━━━━━━━━━━━━━━━━━━━━━━━━━━━━━\u001B[0m \u001B[32m4.3/4.3 MB\u001B[0m \u001B[31m7.4 MB/s\u001B[0m eta \u001B[36m0:00:00\u001B[0ma \u001B[36m0:00:01\u001B[0mm\r\n",
      "\u001B[?25hDownloading xattr-1.1.0-cp312-cp312-macosx_11_0_arm64.whl (19 kB)\r\n",
      "Downloading distlib-0.3.9-py2.py3-none-any.whl (468 kB)\r\n",
      "Downloading msgpack-1.1.0-cp312-cp312-macosx_11_0_arm64.whl (82 kB)\r\n",
      "Downloading rapidfuzz-3.10.1-cp312-cp312-macosx_11_0_arm64.whl (1.4 MB)\r\n",
      "\u001B[2K   \u001B[90m━━━━━━━━━━━━━━━━━━━━━━━━━━━━━━━━━━━━━━━━\u001B[0m \u001B[32m1.4/1.4 MB\u001B[0m \u001B[31m3.1 MB/s\u001B[0m eta \u001B[36m0:00:00\u001B[0m-:--:--\u001B[0m\r\n",
      "\u001B[?25hDownloading jaraco.classes-3.4.0-py3-none-any.whl (6.8 kB)\r\n",
      "Downloading more_itertools-10.5.0-py3-none-any.whl (60 kB)\r\n",
      "Installing collected packages: trove-classifiers, distlib, virtualenv, tomlkit, shellingham, rapidfuzz, pyproject-hooks, poetry-core, pkginfo, msgpack, more-itertools, installer, dulwich, crashtest, xattr, requests-toolbelt, jaraco.classes, cleo, cachecontrol, build, keyring, poetry-plugin-export, poetry\r\n",
      "Successfully installed build-1.2.2.post1 cachecontrol-0.14.1 cleo-2.1.0 crashtest-0.4.1 distlib-0.3.9 dulwich-0.21.7 installer-0.7.0 jaraco.classes-3.4.0 keyring-24.3.1 more-itertools-10.5.0 msgpack-1.1.0 pkginfo-1.11.2 poetry-1.8.4 poetry-core-1.9.1 poetry-plugin-export-1.8.0 pyproject-hooks-1.2.0 rapidfuzz-3.10.1 requests-toolbelt-1.0.0 shellingham-1.5.4 tomlkit-0.13.2 trove-classifiers-2024.10.21.16 virtualenv-20.28.0 xattr-1.1.0\r\n",
      "\r\n",
      "\u001B[31;1mPoetry could not find a pyproject.toml file in /Users/marcuscanhaco/workspace/VisionStudy_TC4/notebooks or its parents\u001B[39;22m\r\n",
      "\r\n",
      "\u001B[31;1mPoetry could not find a pyproject.toml file in /Users/marcuscanhaco/workspace/VisionStudy_TC4/notebooks or its parents\u001B[39;22m\r\n"
     ]
    }
   ],
   "execution_count": 2
  },
  {
   "metadata": {
    "ExecuteTime": {
     "end_time": "2024-11-26T14:18:55.217504Z",
     "start_time": "2024-11-26T14:18:53.541420Z"
    }
   },
   "cell_type": "code",
   "source": "!pip install tabulate",
   "outputs": [
    {
     "name": "stdout",
     "output_type": "stream",
     "text": [
      "Collecting tabulate\r\n",
      "  Downloading tabulate-0.9.0-py3-none-any.whl.metadata (34 kB)\r\n",
      "Downloading tabulate-0.9.0-py3-none-any.whl (35 kB)\r\n",
      "Installing collected packages: tabulate\r\n",
      "\u001B[31mERROR: pip's dependency resolver does not currently take into account all the packages that are installed. This behaviour is the source of the following dependency conflicts.\r\n",
      "yolox 0.3.0 requires ninja, which is not installed.\r\n",
      "yolox 0.3.0 requires onnx==1.8.1, which is not installed.\r\n",
      "yolox 0.3.0 requires onnx-simplifier==0.3.5, which is not installed.\r\n",
      "yolox 0.3.0 requires onnxruntime==1.8.0, which is not installed.\r\n",
      "yolox 0.3.0 requires pycocotools>=2.0.2, which is not installed.\r\n",
      "yolox 0.3.0 requires scikit-image, which is not installed.\r\n",
      "yolox 0.3.0 requires thop, which is not installed.\u001B[0m\u001B[31m\r\n",
      "\u001B[0mSuccessfully installed tabulate-0.9.0\r\n"
     ]
    }
   ],
   "execution_count": 4
  },
  {
   "cell_type": "code",
   "metadata": {
    "ExecuteTime": {
     "end_time": "2024-11-26T14:30:11.889911Z",
     "start_time": "2024-11-26T14:30:06.803873Z"
    }
   },
   "source": [
    "import cv2\n",
    "import gdown\n",
    "import torch\n",
    "import numpy as np\n",
    "from pathlib import Path\n",
    "from torchvision import transforms\n",
    "from ultralytics.utils import ops\n",
    "\n",
    "from yolox.exp import get_exp\n",
    "from yolox.utils import postprocess\n",
    "from yolox.utils.model_utils import fuse_model\n",
    "from boxmot import BotSort\n",
    "from boxmot.utils.ops import yolox_preprocess\n",
    "\n",
    "\n",
    "# Dictionary for YOLOX model weights URLs\n",
    "YOLOX_ZOO = {\n",
    "    'yolox_n.pt': 'https://drive.google.com/uc?id=1AoN2AxzVwOLM0gJ15bcwqZUpFjlDV1dX',\n",
    "    'yolox_s.pt': 'https://drive.google.com/uc?id=1uSmhXzyV1Zvb4TJJCzpsZOIcw7CCJLxj',\n",
    "    'yolox_m.pt': 'https://drive.google.com/uc?id=11Zb0NN_Uu7JwUd9e6Nk8o2_EUfxWqsun',\n",
    "    'yolox_l.pt': 'https://drive.google.com/uc?id=1XwfUuCBF4IgWBWK2H7oOhQgEj9Mrb3rz',\n",
    "    'yolox_x.pt': 'https://drive.google.com/uc?id=1P4mY0Yyd3PPTybgZkjMYhFri88nTmJX5',\n",
    "}\n",
    "\n",
    "# Preprocessing pipeline\n",
    "input_size = [800, 1440]\n",
    "device = torch.device('cpu')\n",
    "yolox_model = 'yolox_s.pt'\n",
    "yolox_model_path = Path(yolox_model)\n",
    "\n",
    "# Download model if not present\n",
    "if not yolox_model_path.exists():\n",
    "    gdown.download(YOLOX_ZOO[yolox_model], output=str(yolox_model_path), quiet=False)\n",
    "\n",
    "# Initialize YOLOX model\n",
    "exp = get_exp(None, 'yolox_s')\n",
    "exp.num_classes = 1\n",
    "ckpt = torch.load(yolox_model_path, map_location=device)\n",
    "\n",
    "model = exp.get_model()\n",
    "model.load_state_dict(ckpt[\"model\"])\n",
    "model = fuse_model(model).to(device).eval()\n",
    "\n",
    "# Initialize tracker\n",
    "tracker = BotSort(reid_weights=Path('osnet_x0_25_msmt17.pt'), device=device, half=False)"
   ],
   "outputs": [
    {
     "name": "stderr",
     "output_type": "stream",
     "text": [
      "\u001B[32m2024-11-26 11:30:07.015\u001B[0m | \u001B[1mINFO    \u001B[0m | \u001B[36mboxmot.utils.torch_utils\u001B[0m:\u001B[36mselect_device\u001B[0m:\u001B[36m52\u001B[0m - \u001B[1mYolo Tracking v11.0.5 🚀 Python-3.12.4 torch-2.2.2CPU\u001B[0m\n",
      "Downloading...\n",
      "From: https://drive.google.com/uc?id=1sSwXSUlj4_tHZequ_iZ8w_Jh0VaRQMqF\n",
      "To: /Users/marcuscanhaco/workspace/VisionStudy_TC4/notebooks/osnet_x0_25_msmt17.pt\n",
      "\n",
      "  0%|          | 0.00/3.06M [00:00<?, ?B/s]\u001B[A\n",
      " 17%|█▋        | 524k/3.06M [00:00<00:00, 3.03MB/s]\u001B[A\n",
      "100%|██████████| 3.06M/3.06M [00:00<00:00, 10.1MB/s]\u001B[A\n",
      "\u001B[32m2024-11-26 11:30:11.884\u001B[0m | \u001B[32m\u001B[1mSUCCESS \u001B[0m | \u001B[36mboxmot.appearance.reid_model_factory\u001B[0m:\u001B[36mload_pretrained_weights\u001B[0m:\u001B[36m183\u001B[0m - \u001B[32m\u001B[1mLoaded pretrained weights from osnet_x0_25_msmt17.pt\u001B[0m\n"
     ]
    }
   ],
   "execution_count": 6
  },
  {
   "cell_type": "code",
   "metadata": {
    "ExecuteTime": {
     "end_time": "2024-11-26T15:20:26.048776Z",
     "start_time": "2024-11-26T15:20:24.956593Z"
    }
   },
   "source": [
    "from yolox.utils import vis\n",
    "import os\n",
    "\n",
    "# Diretórios\n",
    "input_dir = \"/Users/marcuscanhaco/workspace/VisionStudy_TC4/data/Frames_extracted\"\n",
    "output_dir = \"/Users/marcuscanhaco/workspace/VisionStudy_TC4/data/Frames_annotated\"\n",
    "\n",
    "# Criar o diretório de saída, se não existir\n",
    "os.makedirs(output_dir, exist_ok=True)\n",
    "frame = None\n",
    "# Processar cada frame PNG na pasta\n",
    "for img_name in os.listdir(input_dir):\n",
    "    if img_name.endswith(\".png\"):\n",
    "        # Carregar a imagem\n",
    "        img_path = os.path.join(input_dir, img_name)\n",
    "        frame = cv2.imread(img_path)\n",
    "        if frame is None:\n",
    "            print(f\"Erro ao carregar {img_name}\")\n",
    "            continue\n",
    "\n",
    "    # Preprocess frame\n",
    "    height, width = frame.shape[:2]\n",
    "    img_info = {\"height\": height, \"width\": width, \"raw_img\": frame}\n",
    "    frame_img, ratio = yolox_preprocess(frame, input_size=input_size)\n",
    "    frame_tensor = torch.Tensor(frame_img).unsqueeze(0).to(device)\n",
    "\n",
    "    # Detection with YOLOX\n",
    "    with torch.no_grad():\n",
    "        output = model(frame_tensor)\n",
    "        output = postprocess(output, 1, 0.5, 0.7, class_agnostic=True)[0]\n",
    "\n",
    "\n",
    "    # Visualização e salvamento\n",
    "    if output[0] is not None:\n",
    "        bboxes = output[0][:, 0:4]\n",
    "        cls_ids = output[0][:, 6]\n",
    "        scores = output[0][:, 4] * output[0][:, 5]\n",
    "    \n",
    "        # Desenhar caixas delimitadoras e IDs na imagem\n",
    "        annotated_img = vis(img_info[\"raw_img\"], bboxes, scores, cls_ids, conf=exp.test_conf)\n",
    "    \n",
    "        # Salvar imagem anotada\n",
    "        output_path = os.path.join(output_dir, img_name)\n",
    "        cv2.imwrite(output_path, annotated_img)\n",
    "        print(f\"Imagem anotada salva em: {output_path}\")\n",
    "    else:\n",
    "        print(f\"Nenhuma detecção em {img_name}\")"
   ],
   "outputs": [
    {
     "ename": "TypeError",
     "evalue": "'NoneType' object is not subscriptable",
     "output_type": "error",
     "traceback": [
      "\u001B[0;31m---------------------------------------------------------------------------\u001B[0m",
      "\u001B[0;31mTypeError\u001B[0m                                 Traceback (most recent call last)",
      "Cell \u001B[0;32mIn[9], line 34\u001B[0m\n\u001B[1;32m     30\u001B[0m     output \u001B[38;5;241m=\u001B[39m postprocess(output, \u001B[38;5;241m1\u001B[39m, \u001B[38;5;241m0.5\u001B[39m, \u001B[38;5;241m0.7\u001B[39m, class_agnostic\u001B[38;5;241m=\u001B[39m\u001B[38;5;28;01mTrue\u001B[39;00m)[\u001B[38;5;241m0\u001B[39m]\n\u001B[1;32m     33\u001B[0m \u001B[38;5;66;03m# Visualização e salvamento\u001B[39;00m\n\u001B[0;32m---> 34\u001B[0m \u001B[38;5;28;01mif\u001B[39;00m \u001B[43moutput\u001B[49m\u001B[43m[\u001B[49m\u001B[38;5;241;43m0\u001B[39;49m\u001B[43m]\u001B[49m \u001B[38;5;129;01mis\u001B[39;00m \u001B[38;5;129;01mnot\u001B[39;00m \u001B[38;5;28;01mNone\u001B[39;00m:\n\u001B[1;32m     35\u001B[0m     bboxes \u001B[38;5;241m=\u001B[39m output[\u001B[38;5;241m0\u001B[39m][:, \u001B[38;5;241m0\u001B[39m:\u001B[38;5;241m4\u001B[39m]\n\u001B[1;32m     36\u001B[0m     cls_ids \u001B[38;5;241m=\u001B[39m output[\u001B[38;5;241m0\u001B[39m][:, \u001B[38;5;241m6\u001B[39m]\n",
      "\u001B[0;31mTypeError\u001B[0m: 'NoneType' object is not subscriptable"
     ]
    }
   ],
   "execution_count": 9
  },
  {
   "metadata": {},
   "cell_type": "code",
   "outputs": [],
   "execution_count": null,
   "source": ""
  }
 ],
 "metadata": {
  "kernelspec": {
   "display_name": "boxmot-YDNZdsaB-py3.11",
   "language": "python",
   "name": "python3"
  },
  "language_info": {
   "codemirror_mode": {
    "name": "ipython",
    "version": 3
   },
   "file_extension": ".py",
   "mimetype": "text/x-python",
   "name": "python",
   "nbconvert_exporter": "python",
   "pygments_lexer": "ipython3",
   "version": "3.11.5"
  }
 },
 "nbformat": 4,
 "nbformat_minor": 2
}
